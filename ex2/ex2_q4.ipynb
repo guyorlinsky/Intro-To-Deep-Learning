{
  "nbformat": 4,
  "nbformat_minor": 0,
  "metadata": {
    "colab": {
      "provenance": []
    },
    "kernelspec": {
      "name": "python3",
      "display_name": "Python 3"
    },
    "language_info": {
      "name": "python"
    }
  },
  "cells": [
    {
      "cell_type": "code",
      "source": [
        "import torch\n",
        "import torch.nn as nn\n",
        "import torch.nn.functional as F\n",
        "from torchvision import datasets, transforms\n",
        "from torch.utils.data import DataLoader, Subset\n",
        "from tqdm import tqdm\n",
        "import matplotlib.pyplot as plt"
      ],
      "metadata": {
        "id": "fzInkfrZkMcA"
      },
      "execution_count": null,
      "outputs": []
    },
    {
      "cell_type": "code",
      "execution_count": null,
      "metadata": {
        "id": "ljWkkrCpj-IU"
      },
      "outputs": [],
      "source": [
        "# Data loading and transformation\n",
        "transform = transforms.Compose([transforms.ToTensor()])\n",
        "\n",
        "train_loader = datasets.MNIST('./data',\n",
        "                              train= True,\n",
        "                             download=True,\n",
        "                             transform = transform)\n",
        "indices = torch.arange(100)\n",
        "train_loader = Subset(train_loader, indices)\n",
        "train_loader = DataLoader(train_loader, batch_size=64,shuffle=True, num_workers=0)\n",
        "\n",
        "\n",
        "test_dataset = datasets.MNIST(root='./data', train=False, transform=transform, download=True)\n",
        "test_loader = DataLoader(dataset=test_dataset, batch_size=8, shuffle=False)\n",
        "\n"
      ]
    },
    {
      "cell_type": "code",
      "source": [
        "# Define Encoder\n",
        "class Encoder(nn.Module):\n",
        "    def __init__(self):\n",
        "        super(Encoder, self).__init__()\n",
        "        self.conv1 = nn.Conv2d(1, 32, kernel_size=3, stride=2, padding=1)\n",
        "        self.bn1 = nn.BatchNorm2d(32)\n",
        "        self.conv2 = nn.Conv2d(32, 64, kernel_size=3, stride=2, padding=1)\n",
        "        self.conv3 = nn.Conv2d(64, 128, kernel_size=3, stride=2, padding=1)\n",
        "        self.fc = nn.Linear(128 * 4 * 4, 12)\n",
        "\n",
        "    def forward(self, x):\n",
        "        x = self.conv1(x)\n",
        "        x = F.relu(self.bn1(x))\n",
        "        x = F.relu(self.conv2(x))\n",
        "        x = F.relu(self.conv3(x))\n",
        "        x = x.view(x.size(0), -1)\n",
        "        x = self.fc(x)\n",
        "        return x"
      ],
      "metadata": {
        "id": "qT-13co1kmEM"
      },
      "execution_count": null,
      "outputs": []
    },
    {
      "cell_type": "code",
      "source": [
        "class Classifier(nn.Module):\n",
        "    def __init__(self):\n",
        "        super(Classifier, self).__init__()\n",
        "        self.fc1 = nn.Linear(12,32)\n",
        "        self.fc2 = nn.Linear(32, 10)\n",
        "\n",
        "    def forward(self, x):\n",
        "        x = F.relu(self.fc1(x))\n",
        "        x = self.fc2(x)\n",
        "        return x"
      ],
      "metadata": {
        "id": "qQtEU-Tpl0p4"
      },
      "execution_count": null,
      "outputs": []
    },
    {
      "cell_type": "code",
      "source": [
        "class CombinedModel(nn.Module):\n",
        "    def __init__(self, Encoder):\n",
        "        super(CombinedModel, self).__init__()\n",
        "        self.encoder = Encoder\n",
        "        self.classifier = Classifier()\n",
        "\n",
        "    def forward(self, x):\n",
        "        x = self.encoder(x)\n",
        "        x = self.classifier(x)\n",
        "        return x"
      ],
      "metadata": {
        "id": "OTfnTpPCl3rQ"
      },
      "execution_count": null,
      "outputs": []
    },
    {
      "cell_type": "code",
      "source": [
        "ourEncoder = Encoder()\n"
      ],
      "metadata": {
        "id": "WfiAq0h5l46_"
      },
      "execution_count": null,
      "outputs": []
    },
    {
      "cell_type": "code",
      "source": [
        "# Initialize model, loss function, and optimizer\n",
        "device = torch.device('cuda' if torch.cuda.is_available() else 'cpu')\n",
        "model = CombinedModel(ourEncoder).to(device)\n",
        "criterion = nn.CrossEntropyLoss()\n",
        "optimizer = torch.optim.Adam(model.parameters(), lr=0.001)"
      ],
      "metadata": {
        "id": "9TzJEWJJl6wt"
      },
      "execution_count": null,
      "outputs": []
    },
    {
      "cell_type": "code",
      "source": [
        "# Training loop\n",
        "num_epochs = 30\n",
        "train_losses = []\n",
        "test_losses = []\n",
        "train_accuracies = []\n",
        "test_accuracies = []\n",
        "\n",
        "for epoch in range(num_epochs):\n",
        "    model.train()\n",
        "    running_loss = 0.0\n",
        "    correct = 0\n",
        "    total = 0\n",
        "\n",
        "    for images, labels in tqdm(train_loader):\n",
        "        images, labels = images.to(device), labels.to(device)\n",
        "        optimizer.zero_grad()\n",
        "        outputs = model(images)\n",
        "        loss = criterion(outputs, labels)\n",
        "        loss.backward()\n",
        "        optimizer.step()\n",
        "\n",
        "        running_loss += loss.item()\n",
        "        _, predicted = outputs.max(1)\n",
        "        total += labels.size(0)\n",
        "        correct += predicted.eq(labels).sum().item()\n",
        "\n",
        "    train_loss = running_loss / len(train_loader)\n",
        "    train_accuracy = 100. * correct / total\n",
        "    train_losses.append(train_loss)\n",
        "    train_accuracies.append(train_accuracy)\n",
        "\n",
        "    # Evaluate on test set\n",
        "    model.eval()\n",
        "    running_loss = 0.0\n",
        "    correct = 0\n",
        "    total = 0\n",
        "    with torch.no_grad():\n",
        "        for images, labels in tqdm(test_loader):\n",
        "            images, labels = images.to(device), labels.to(device)\n",
        "            outputs = model(images)\n",
        "            loss = criterion(outputs, labels)\n",
        "\n",
        "            running_loss += loss.item()\n",
        "            _, predicted = outputs.max(1)\n",
        "            total += labels.size(0)\n",
        "            correct += predicted.eq(labels).sum().item()\n",
        "\n",
        "    test_loss = running_loss / len(test_loader)\n",
        "    test_accuracy = 100. * correct / total\n",
        "    test_losses.append(test_loss)\n",
        "    test_accuracies.append(test_accuracy)\n",
        "\n",
        "    print(f'Epoch [{epoch+1}/{num_epochs}], Train Loss: {train_loss:.4f}, Train Acc: {train_accuracy:.2f}%, Test Loss: {test_loss:.4f}, Test Acc: {test_accuracy:.2f}%')\n"
      ],
      "metadata": {
        "id": "lFRQdujsl7QZ",
        "outputId": "49d7ebc6-73d8-4e87-839f-14a26663d597",
        "colab": {
          "base_uri": "https://localhost:8080/"
        }
      },
      "execution_count": null,
      "outputs": [
        {
          "output_type": "stream",
          "name": "stderr",
          "text": [
            "100%|██████████| 2/2 [00:00<00:00, 27.55it/s]\n",
            "100%|██████████| 1250/1250 [00:04<00:00, 293.29it/s]\n"
          ]
        },
        {
          "output_type": "stream",
          "name": "stdout",
          "text": [
            "Epoch [1/32], Train Loss: 2.2824, Train Acc: 5.00%, Test Loss: 2.2386, Test Acc: 11.21%\n"
          ]
        },
        {
          "output_type": "stream",
          "name": "stderr",
          "text": [
            "100%|██████████| 2/2 [00:00<00:00, 25.84it/s]\n",
            "100%|██████████| 1250/1250 [00:04<00:00, 300.57it/s]\n"
          ]
        },
        {
          "output_type": "stream",
          "name": "stdout",
          "text": [
            "Epoch [2/32], Train Loss: 2.1748, Train Acc: 16.00%, Test Loss: 2.1793, Test Acc: 19.09%\n"
          ]
        },
        {
          "output_type": "stream",
          "name": "stderr",
          "text": [
            "100%|██████████| 2/2 [00:00<00:00, 28.91it/s]\n",
            "100%|██████████| 1250/1250 [00:05<00:00, 241.85it/s]\n"
          ]
        },
        {
          "output_type": "stream",
          "name": "stdout",
          "text": [
            "Epoch [3/32], Train Loss: 2.0491, Train Acc: 27.00%, Test Loss: 2.0828, Test Acc: 24.35%\n"
          ]
        },
        {
          "output_type": "stream",
          "name": "stderr",
          "text": [
            "100%|██████████| 2/2 [00:00<00:00, 32.59it/s]\n",
            "100%|██████████| 1250/1250 [00:04<00:00, 299.76it/s]\n"
          ]
        },
        {
          "output_type": "stream",
          "name": "stdout",
          "text": [
            "Epoch [4/32], Train Loss: 1.8943, Train Acc: 35.00%, Test Loss: 1.9631, Test Acc: 32.62%\n"
          ]
        },
        {
          "output_type": "stream",
          "name": "stderr",
          "text": [
            "100%|██████████| 2/2 [00:00<00:00, 32.97it/s]\n",
            "100%|██████████| 1250/1250 [00:04<00:00, 294.51it/s]\n"
          ]
        },
        {
          "output_type": "stream",
          "name": "stdout",
          "text": [
            "Epoch [5/32], Train Loss: 1.6697, Train Acc: 46.00%, Test Loss: 1.8691, Test Acc: 44.60%\n"
          ]
        },
        {
          "output_type": "stream",
          "name": "stderr",
          "text": [
            "100%|██████████| 2/2 [00:00<00:00, 23.09it/s]\n",
            "100%|██████████| 1250/1250 [00:04<00:00, 272.44it/s]\n"
          ]
        },
        {
          "output_type": "stream",
          "name": "stdout",
          "text": [
            "Epoch [6/32], Train Loss: 1.4970, Train Acc: 60.00%, Test Loss: 1.7530, Test Acc: 44.38%\n"
          ]
        },
        {
          "output_type": "stream",
          "name": "stderr",
          "text": [
            "100%|██████████| 2/2 [00:00<00:00, 31.75it/s]\n",
            "100%|██████████| 1250/1250 [00:04<00:00, 276.48it/s]\n"
          ]
        },
        {
          "output_type": "stream",
          "name": "stdout",
          "text": [
            "Epoch [7/32], Train Loss: 1.2883, Train Acc: 65.00%, Test Loss: 1.6425, Test Acc: 47.71%\n"
          ]
        },
        {
          "output_type": "stream",
          "name": "stderr",
          "text": [
            "100%|██████████| 2/2 [00:00<00:00, 31.88it/s]\n",
            "100%|██████████| 1250/1250 [00:04<00:00, 260.14it/s]\n"
          ]
        },
        {
          "output_type": "stream",
          "name": "stdout",
          "text": [
            "Epoch [8/32], Train Loss: 1.1419, Train Acc: 66.00%, Test Loss: 1.5770, Test Acc: 51.81%\n"
          ]
        },
        {
          "output_type": "stream",
          "name": "stderr",
          "text": [
            "100%|██████████| 2/2 [00:00<00:00, 20.09it/s]\n",
            "100%|██████████| 1250/1250 [00:04<00:00, 294.00it/s]\n"
          ]
        },
        {
          "output_type": "stream",
          "name": "stdout",
          "text": [
            "Epoch [9/32], Train Loss: 0.8984, Train Acc: 76.00%, Test Loss: 1.6217, Test Acc: 54.65%\n"
          ]
        },
        {
          "output_type": "stream",
          "name": "stderr",
          "text": [
            "100%|██████████| 2/2 [00:00<00:00, 33.14it/s]\n",
            "100%|██████████| 1250/1250 [00:03<00:00, 321.56it/s]\n"
          ]
        },
        {
          "output_type": "stream",
          "name": "stdout",
          "text": [
            "Epoch [10/32], Train Loss: 0.7710, Train Acc: 77.00%, Test Loss: 1.4932, Test Acc: 56.45%\n"
          ]
        },
        {
          "output_type": "stream",
          "name": "stderr",
          "text": [
            "100%|██████████| 2/2 [00:00<00:00, 34.44it/s]\n",
            "100%|██████████| 1250/1250 [00:05<00:00, 239.53it/s]\n"
          ]
        },
        {
          "output_type": "stream",
          "name": "stdout",
          "text": [
            "Epoch [11/32], Train Loss: 0.6735, Train Acc: 80.00%, Test Loss: 1.4764, Test Acc: 56.96%\n"
          ]
        },
        {
          "output_type": "stream",
          "name": "stderr",
          "text": [
            "100%|██████████| 2/2 [00:00<00:00, 26.31it/s]\n",
            "100%|██████████| 1250/1250 [00:04<00:00, 276.71it/s]\n"
          ]
        },
        {
          "output_type": "stream",
          "name": "stdout",
          "text": [
            "Epoch [12/32], Train Loss: 0.5491, Train Acc: 82.00%, Test Loss: 1.7675, Test Acc: 54.18%\n"
          ]
        },
        {
          "output_type": "stream",
          "name": "stderr",
          "text": [
            "100%|██████████| 2/2 [00:00<00:00, 29.18it/s]\n",
            "100%|██████████| 1250/1250 [00:04<00:00, 268.28it/s]\n"
          ]
        },
        {
          "output_type": "stream",
          "name": "stdout",
          "text": [
            "Epoch [13/32], Train Loss: 0.4824, Train Acc: 86.00%, Test Loss: 1.6313, Test Acc: 56.54%\n"
          ]
        },
        {
          "output_type": "stream",
          "name": "stderr",
          "text": [
            "100%|██████████| 2/2 [00:00<00:00, 29.27it/s]\n",
            "100%|██████████| 1250/1250 [00:05<00:00, 216.97it/s]\n"
          ]
        },
        {
          "output_type": "stream",
          "name": "stdout",
          "text": [
            "Epoch [14/32], Train Loss: 0.3551, Train Acc: 89.00%, Test Loss: 1.4957, Test Acc: 60.84%\n"
          ]
        },
        {
          "output_type": "stream",
          "name": "stderr",
          "text": [
            "100%|██████████| 2/2 [00:00<00:00, 26.05it/s]\n",
            "100%|██████████| 1250/1250 [00:04<00:00, 253.11it/s]\n"
          ]
        },
        {
          "output_type": "stream",
          "name": "stdout",
          "text": [
            "Epoch [15/32], Train Loss: 0.3377, Train Acc: 91.00%, Test Loss: 1.4648, Test Acc: 62.93%\n"
          ]
        },
        {
          "output_type": "stream",
          "name": "stderr",
          "text": [
            "100%|██████████| 2/2 [00:00<00:00, 27.75it/s]\n",
            "100%|██████████| 1250/1250 [00:05<00:00, 215.87it/s]\n"
          ]
        },
        {
          "output_type": "stream",
          "name": "stdout",
          "text": [
            "Epoch [16/32], Train Loss: 0.2428, Train Acc: 94.00%, Test Loss: 1.5673, Test Acc: 61.78%\n"
          ]
        },
        {
          "output_type": "stream",
          "name": "stderr",
          "text": [
            "100%|██████████| 2/2 [00:00<00:00, 22.98it/s]\n",
            "100%|██████████| 1250/1250 [00:04<00:00, 256.28it/s]\n"
          ]
        },
        {
          "output_type": "stream",
          "name": "stdout",
          "text": [
            "Epoch [17/32], Train Loss: 0.1938, Train Acc: 98.00%, Test Loss: 1.6221, Test Acc: 60.60%\n"
          ]
        },
        {
          "output_type": "stream",
          "name": "stderr",
          "text": [
            "100%|██████████| 2/2 [00:00<00:00, 20.69it/s]\n",
            "100%|██████████| 1250/1250 [00:05<00:00, 243.76it/s]\n"
          ]
        },
        {
          "output_type": "stream",
          "name": "stdout",
          "text": [
            "Epoch [18/32], Train Loss: 0.1772, Train Acc: 95.00%, Test Loss: 1.6756, Test Acc: 61.99%\n"
          ]
        },
        {
          "output_type": "stream",
          "name": "stderr",
          "text": [
            "100%|██████████| 2/2 [00:00<00:00, 18.62it/s]\n",
            "100%|██████████| 1250/1250 [00:05<00:00, 230.86it/s]\n"
          ]
        },
        {
          "output_type": "stream",
          "name": "stdout",
          "text": [
            "Epoch [19/32], Train Loss: 0.1099, Train Acc: 99.00%, Test Loss: 1.7972, Test Acc: 64.22%\n"
          ]
        },
        {
          "output_type": "stream",
          "name": "stderr",
          "text": [
            "100%|██████████| 2/2 [00:00<00:00, 28.93it/s]\n",
            "100%|██████████| 1250/1250 [00:04<00:00, 263.78it/s]\n"
          ]
        },
        {
          "output_type": "stream",
          "name": "stdout",
          "text": [
            "Epoch [20/32], Train Loss: 0.0955, Train Acc: 99.00%, Test Loss: 1.7914, Test Acc: 65.89%\n"
          ]
        },
        {
          "output_type": "stream",
          "name": "stderr",
          "text": [
            "100%|██████████| 2/2 [00:00<00:00, 24.31it/s]\n",
            "100%|██████████| 1250/1250 [00:05<00:00, 219.31it/s]\n"
          ]
        },
        {
          "output_type": "stream",
          "name": "stdout",
          "text": [
            "Epoch [21/32], Train Loss: 0.0656, Train Acc: 99.00%, Test Loss: 1.7641, Test Acc: 66.07%\n"
          ]
        },
        {
          "output_type": "stream",
          "name": "stderr",
          "text": [
            "100%|██████████| 2/2 [00:00<00:00, 28.55it/s]\n",
            "100%|██████████| 1250/1250 [00:04<00:00, 255.47it/s]\n"
          ]
        },
        {
          "output_type": "stream",
          "name": "stdout",
          "text": [
            "Epoch [22/32], Train Loss: 0.0449, Train Acc: 99.00%, Test Loss: 1.8072, Test Acc: 65.22%\n"
          ]
        },
        {
          "output_type": "stream",
          "name": "stderr",
          "text": [
            "100%|██████████| 2/2 [00:00<00:00, 27.06it/s]\n",
            "100%|██████████| 1250/1250 [00:05<00:00, 214.61it/s]\n"
          ]
        },
        {
          "output_type": "stream",
          "name": "stdout",
          "text": [
            "Epoch [23/32], Train Loss: 0.0368, Train Acc: 100.00%, Test Loss: 1.8793, Test Acc: 64.53%\n"
          ]
        },
        {
          "output_type": "stream",
          "name": "stderr",
          "text": [
            "100%|██████████| 2/2 [00:00<00:00, 16.96it/s]\n",
            "100%|██████████| 1250/1250 [00:04<00:00, 250.37it/s]\n"
          ]
        },
        {
          "output_type": "stream",
          "name": "stdout",
          "text": [
            "Epoch [24/32], Train Loss: 0.0271, Train Acc: 100.00%, Test Loss: 1.9398, Test Acc: 64.54%\n"
          ]
        },
        {
          "output_type": "stream",
          "name": "stderr",
          "text": [
            "100%|██████████| 2/2 [00:00<00:00, 27.80it/s]\n",
            "100%|██████████| 1250/1250 [00:05<00:00, 248.96it/s]\n"
          ]
        },
        {
          "output_type": "stream",
          "name": "stdout",
          "text": [
            "Epoch [25/32], Train Loss: 0.0210, Train Acc: 100.00%, Test Loss: 1.9439, Test Acc: 65.39%\n"
          ]
        },
        {
          "output_type": "stream",
          "name": "stderr",
          "text": [
            "100%|██████████| 2/2 [00:00<00:00, 28.43it/s]\n",
            "100%|██████████| 1250/1250 [00:05<00:00, 211.49it/s]\n"
          ]
        },
        {
          "output_type": "stream",
          "name": "stdout",
          "text": [
            "Epoch [26/32], Train Loss: 0.0141, Train Acc: 100.00%, Test Loss: 1.9199, Test Acc: 66.71%\n"
          ]
        },
        {
          "output_type": "stream",
          "name": "stderr",
          "text": [
            "100%|██████████| 2/2 [00:00<00:00, 25.65it/s]\n",
            "100%|██████████| 1250/1250 [00:04<00:00, 260.46it/s]\n"
          ]
        },
        {
          "output_type": "stream",
          "name": "stdout",
          "text": [
            "Epoch [27/32], Train Loss: 0.0114, Train Acc: 100.00%, Test Loss: 1.9051, Test Acc: 67.40%\n"
          ]
        },
        {
          "output_type": "stream",
          "name": "stderr",
          "text": [
            "100%|██████████| 2/2 [00:00<00:00, 25.21it/s]\n",
            "100%|██████████| 1250/1250 [00:05<00:00, 222.12it/s]\n"
          ]
        },
        {
          "output_type": "stream",
          "name": "stdout",
          "text": [
            "Epoch [28/32], Train Loss: 0.0105, Train Acc: 100.00%, Test Loss: 1.9175, Test Acc: 67.74%\n"
          ]
        },
        {
          "output_type": "stream",
          "name": "stderr",
          "text": [
            "100%|██████████| 2/2 [00:00<00:00, 28.84it/s]\n",
            "100%|██████████| 1250/1250 [00:04<00:00, 265.22it/s]\n"
          ]
        },
        {
          "output_type": "stream",
          "name": "stdout",
          "text": [
            "Epoch [29/32], Train Loss: 0.0087, Train Acc: 100.00%, Test Loss: 1.9687, Test Acc: 67.64%\n"
          ]
        },
        {
          "output_type": "stream",
          "name": "stderr",
          "text": [
            "100%|██████████| 2/2 [00:00<00:00, 20.61it/s]\n",
            "100%|██████████| 1250/1250 [00:05<00:00, 248.05it/s]\n"
          ]
        },
        {
          "output_type": "stream",
          "name": "stdout",
          "text": [
            "Epoch [30/32], Train Loss: 0.0070, Train Acc: 100.00%, Test Loss: 2.0327, Test Acc: 67.47%\n"
          ]
        },
        {
          "output_type": "stream",
          "name": "stderr",
          "text": [
            "100%|██████████| 2/2 [00:00<00:00, 17.52it/s]\n",
            "100%|██████████| 1250/1250 [00:05<00:00, 231.67it/s]\n"
          ]
        },
        {
          "output_type": "stream",
          "name": "stdout",
          "text": [
            "Epoch [31/32], Train Loss: 0.0054, Train Acc: 100.00%, Test Loss: 2.0944, Test Acc: 67.11%\n"
          ]
        },
        {
          "output_type": "stream",
          "name": "stderr",
          "text": [
            "100%|██████████| 2/2 [00:00<00:00, 27.64it/s]\n",
            "100%|██████████| 1250/1250 [00:04<00:00, 260.61it/s]"
          ]
        },
        {
          "output_type": "stream",
          "name": "stdout",
          "text": [
            "Epoch [32/32], Train Loss: 0.0047, Train Acc: 100.00%, Test Loss: 2.1385, Test Acc: 66.88%\n"
          ]
        },
        {
          "output_type": "stream",
          "name": "stderr",
          "text": [
            "\n"
          ]
        }
      ]
    },
    {
      "cell_type": "code",
      "source": [
        "# Plotting training and test errors and accuracies\n",
        "import matplotlib.pyplot as plt\n",
        "\n",
        "plt.figure(figsize=(12, 4))\n",
        "plt.subplot(1, 2, 1)\n",
        "plt.plot(train_losses, label='Train Loss')\n",
        "plt.plot(test_losses, label='Test Loss')\n",
        "plt.xlabel('Epoch')\n",
        "plt.ylabel('Loss')\n",
        "plt.legend()\n",
        "\n",
        "plt.subplot(1, 2, 2)\n",
        "plt.plot(train_accuracies, label='Train Accuracy')\n",
        "plt.plot(test_accuracies, label='Test Accuracy')\n",
        "plt.xlabel('Epoch')\n",
        "plt.ylabel('Accuracy')\n",
        "plt.legend()\n",
        "\n",
        "plt.show()"
      ],
      "metadata": {
        "id": "TMsa1lJdl91e",
        "outputId": "8dcaba93-9592-41fe-9669-4d5e76021974",
        "colab": {
          "base_uri": "https://localhost:8080/",
          "height": 326
        }
      },
      "execution_count": null,
      "outputs": [
        {
          "output_type": "display_data",
          "data": {
            "text/plain": [
              "<Figure size 1200x400 with 2 Axes>"
            ],
            "image/png": "[encoded data removed]"
          },
          "metadata": {}
        }
      ]
    },
    {
      "cell_type": "code",
      "source": [],
      "metadata": {
        "id": "oiNpM7cD2hbI"
      },
      "execution_count": null,
      "outputs": []
    }
  ]
}